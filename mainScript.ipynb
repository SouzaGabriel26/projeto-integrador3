{
 "cells": [
  {
   "cell_type": "code",
   "execution_count": 46,
   "id": "08736d5c",
   "metadata": {},
   "outputs": [],
   "source": [
    "import pandas as pd\n",
    "import numpy as np\n",
    "import matplotlib.pyplot as plt\n",
    "import seaborn as sns\n",
    "from sklearn.model_selection import train_test_split\n",
    "from sklearn.linear_model import LinearRegression\n",
    "from sklearn.metrics import mean_squared_error, r2_score"
   ]
  },
  {
   "cell_type": "code",
   "execution_count": 2,
   "id": "b8853587",
   "metadata": {
    "scrolled": false
   },
   "outputs": [
    {
     "data": {
      "text/html": [
       "<div>\n",
       "<style scoped>\n",
       "    .dataframe tbody tr th:only-of-type {\n",
       "        vertical-align: middle;\n",
       "    }\n",
       "\n",
       "    .dataframe tbody tr th {\n",
       "        vertical-align: top;\n",
       "    }\n",
       "\n",
       "    .dataframe thead th {\n",
       "        text-align: right;\n",
       "    }\n",
       "</style>\n",
       "<table border=\"1\" class=\"dataframe\">\n",
       "  <thead>\n",
       "    <tr style=\"text-align: right;\">\n",
       "      <th></th>\n",
       "      <th>raceId</th>\n",
       "      <th>driverId</th>\n",
       "      <th>grid</th>\n",
       "      <th>positionOrder</th>\n",
       "      <th>circuitId</th>\n",
       "      <th>name</th>\n",
       "      <th>date</th>\n",
       "      <th>forename</th>\n",
       "      <th>surname</th>\n",
       "      <th>stop</th>\n",
       "      <th>lap</th>\n",
       "      <th>duration</th>\n",
       "    </tr>\n",
       "  </thead>\n",
       "  <tbody>\n",
       "    <tr>\n",
       "      <th>0</th>\n",
       "      <td>859</td>\n",
       "      <td>30</td>\n",
       "      <td>10</td>\n",
       "      <td>15</td>\n",
       "      <td>18</td>\n",
       "      <td>Brazilian Grand Prix</td>\n",
       "      <td>2011-11-27</td>\n",
       "      <td>Michael</td>\n",
       "      <td>Schumacher</td>\n",
       "      <td>1</td>\n",
       "      <td>10</td>\n",
       "      <td>25.481</td>\n",
       "    </tr>\n",
       "    <tr>\n",
       "      <th>1</th>\n",
       "      <td>859</td>\n",
       "      <td>811</td>\n",
       "      <td>9</td>\n",
       "      <td>17</td>\n",
       "      <td>18</td>\n",
       "      <td>Brazilian Grand Prix</td>\n",
       "      <td>2011-11-27</td>\n",
       "      <td>Bruno</td>\n",
       "      <td>Senna</td>\n",
       "      <td>1</td>\n",
       "      <td>12</td>\n",
       "      <td>21.900</td>\n",
       "    </tr>\n",
       "    <tr>\n",
       "      <th>2</th>\n",
       "      <td>859</td>\n",
       "      <td>808</td>\n",
       "      <td>15</td>\n",
       "      <td>10</td>\n",
       "      <td>18</td>\n",
       "      <td>Brazilian Grand Prix</td>\n",
       "      <td>2011-11-27</td>\n",
       "      <td>Vitaly</td>\n",
       "      <td>Petrov</td>\n",
       "      <td>1</td>\n",
       "      <td>13</td>\n",
       "      <td>21.169</td>\n",
       "    </tr>\n",
       "    <tr>\n",
       "      <th>3</th>\n",
       "      <td>859</td>\n",
       "      <td>16</td>\n",
       "      <td>8</td>\n",
       "      <td>6</td>\n",
       "      <td>18</td>\n",
       "      <td>Brazilian Grand Prix</td>\n",
       "      <td>2011-11-27</td>\n",
       "      <td>Adrian</td>\n",
       "      <td>Sutil</td>\n",
       "      <td>1</td>\n",
       "      <td>14</td>\n",
       "      <td>21.097</td>\n",
       "    </tr>\n",
       "    <tr>\n",
       "      <th>4</th>\n",
       "      <td>859</td>\n",
       "      <td>18</td>\n",
       "      <td>3</td>\n",
       "      <td>3</td>\n",
       "      <td>18</td>\n",
       "      <td>Brazilian Grand Prix</td>\n",
       "      <td>2011-11-27</td>\n",
       "      <td>Jenson</td>\n",
       "      <td>Button</td>\n",
       "      <td>1</td>\n",
       "      <td>15</td>\n",
       "      <td>22.005</td>\n",
       "    </tr>\n",
       "    <tr>\n",
       "      <th>...</th>\n",
       "      <td>...</td>\n",
       "      <td>...</td>\n",
       "      <td>...</td>\n",
       "      <td>...</td>\n",
       "      <td>...</td>\n",
       "      <td>...</td>\n",
       "      <td>...</td>\n",
       "      <td>...</td>\n",
       "      <td>...</td>\n",
       "      <td>...</td>\n",
       "      <td>...</td>\n",
       "      <td>...</td>\n",
       "    </tr>\n",
       "    <tr>\n",
       "      <th>558</th>\n",
       "      <td>1095</td>\n",
       "      <td>4</td>\n",
       "      <td>17</td>\n",
       "      <td>5</td>\n",
       "      <td>18</td>\n",
       "      <td>Brazilian Grand Prix</td>\n",
       "      <td>2022-11-13</td>\n",
       "      <td>Fernando</td>\n",
       "      <td>Alonso</td>\n",
       "      <td>3</td>\n",
       "      <td>52</td>\n",
       "      <td>23.790</td>\n",
       "    </tr>\n",
       "    <tr>\n",
       "      <th>559</th>\n",
       "      <td>1095</td>\n",
       "      <td>842</td>\n",
       "      <td>10</td>\n",
       "      <td>14</td>\n",
       "      <td>18</td>\n",
       "      <td>Brazilian Grand Prix</td>\n",
       "      <td>2022-11-13</td>\n",
       "      <td>Pierre</td>\n",
       "      <td>Gasly</td>\n",
       "      <td>3</td>\n",
       "      <td>52</td>\n",
       "      <td>23.009</td>\n",
       "    </tr>\n",
       "    <tr>\n",
       "      <th>560</th>\n",
       "      <td>1095</td>\n",
       "      <td>832</td>\n",
       "      <td>7</td>\n",
       "      <td>3</td>\n",
       "      <td>18</td>\n",
       "      <td>Brazilian Grand Prix</td>\n",
       "      <td>2022-11-13</td>\n",
       "      <td>Carlos</td>\n",
       "      <td>Sainz</td>\n",
       "      <td>3</td>\n",
       "      <td>53</td>\n",
       "      <td>23.816</td>\n",
       "    </tr>\n",
       "    <tr>\n",
       "      <th>561</th>\n",
       "      <td>1095</td>\n",
       "      <td>849</td>\n",
       "      <td>18</td>\n",
       "      <td>16</td>\n",
       "      <td>18</td>\n",
       "      <td>Brazilian Grand Prix</td>\n",
       "      <td>2022-11-13</td>\n",
       "      <td>Nicholas</td>\n",
       "      <td>Latifi</td>\n",
       "      <td>3</td>\n",
       "      <td>52</td>\n",
       "      <td>23.640</td>\n",
       "    </tr>\n",
       "    <tr>\n",
       "      <th>562</th>\n",
       "      <td>1095</td>\n",
       "      <td>852</td>\n",
       "      <td>0</td>\n",
       "      <td>17</td>\n",
       "      <td>18</td>\n",
       "      <td>Brazilian Grand Prix</td>\n",
       "      <td>2022-11-13</td>\n",
       "      <td>Yuki</td>\n",
       "      <td>Tsunoda</td>\n",
       "      <td>3</td>\n",
       "      <td>54</td>\n",
       "      <td>23.635</td>\n",
       "    </tr>\n",
       "  </tbody>\n",
       "</table>\n",
       "<p>563 rows × 12 columns</p>\n",
       "</div>"
      ],
      "text/plain": [
       "     raceId  driverId  grid  positionOrder  circuitId                  name  \\\n",
       "0       859        30    10             15         18  Brazilian Grand Prix   \n",
       "1       859       811     9             17         18  Brazilian Grand Prix   \n",
       "2       859       808    15             10         18  Brazilian Grand Prix   \n",
       "3       859        16     8              6         18  Brazilian Grand Prix   \n",
       "4       859        18     3              3         18  Brazilian Grand Prix   \n",
       "..      ...       ...   ...            ...        ...                   ...   \n",
       "558    1095         4    17              5         18  Brazilian Grand Prix   \n",
       "559    1095       842    10             14         18  Brazilian Grand Prix   \n",
       "560    1095       832     7              3         18  Brazilian Grand Prix   \n",
       "561    1095       849    18             16         18  Brazilian Grand Prix   \n",
       "562    1095       852     0             17         18  Brazilian Grand Prix   \n",
       "\n",
       "           date  forename     surname  stop  lap  duration  \n",
       "0    2011-11-27   Michael  Schumacher     1   10    25.481  \n",
       "1    2011-11-27     Bruno       Senna     1   12    21.900  \n",
       "2    2011-11-27    Vitaly      Petrov     1   13    21.169  \n",
       "3    2011-11-27    Adrian       Sutil     1   14    21.097  \n",
       "4    2011-11-27    Jenson      Button     1   15    22.005  \n",
       "..          ...       ...         ...   ...  ...       ...  \n",
       "558  2022-11-13  Fernando      Alonso     3   52    23.790  \n",
       "559  2022-11-13    Pierre       Gasly     3   52    23.009  \n",
       "560  2022-11-13    Carlos       Sainz     3   53    23.816  \n",
       "561  2022-11-13  Nicholas      Latifi     3   52    23.640  \n",
       "562  2022-11-13      Yuki     Tsunoda     3   54    23.635  \n",
       "\n",
       "[563 rows x 12 columns]"
      ]
     },
     "execution_count": 2,
     "metadata": {},
     "output_type": "execute_result"
    }
   ],
   "source": [
    "infos_interlagos = pd.read_csv('./Interlagos_infos.csv')\n",
    "infos_interlagos"
   ]
  },
  {
   "cell_type": "code",
   "execution_count": 3,
   "id": "0d357f63",
   "metadata": {},
   "outputs": [
    {
     "name": "stderr",
     "output_type": "stream",
     "text": [
      "C:\\Users\\USUARIO\\AppData\\Local\\Temp\\ipykernel_2412\\1714621924.py:3: PerformanceWarning: dropping on a non-lexsorted multi-index without a level parameter may impact performance.\n",
      "  numerical_data = numerical_data.drop('raceId', axis=1)\n"
     ]
    },
    {
     "data": {
      "text/html": [
       "<div>\n",
       "<style scoped>\n",
       "    .dataframe tbody tr th:only-of-type {\n",
       "        vertical-align: middle;\n",
       "    }\n",
       "\n",
       "    .dataframe tbody tr th {\n",
       "        vertical-align: top;\n",
       "    }\n",
       "\n",
       "    .dataframe thead tr th {\n",
       "        text-align: left;\n",
       "    }\n",
       "</style>\n",
       "<table border=\"1\" class=\"dataframe\">\n",
       "  <thead>\n",
       "    <tr>\n",
       "      <th></th>\n",
       "      <th>grid</th>\n",
       "      <th>positionOrder</th>\n",
       "      <th colspan=\"3\" halign=\"left\">duration</th>\n",
       "      <th>stop</th>\n",
       "    </tr>\n",
       "    <tr>\n",
       "      <th></th>\n",
       "      <th></th>\n",
       "      <th></th>\n",
       "      <th>mean</th>\n",
       "      <th>std</th>\n",
       "      <th>var</th>\n",
       "      <th>size</th>\n",
       "    </tr>\n",
       "  </thead>\n",
       "  <tbody>\n",
       "    <tr>\n",
       "      <th>0</th>\n",
       "      <td>1</td>\n",
       "      <td>2</td>\n",
       "      <td>21.224333</td>\n",
       "      <td>0.765602</td>\n",
       "      <td>0.586146</td>\n",
       "      <td>3</td>\n",
       "    </tr>\n",
       "    <tr>\n",
       "      <th>1</th>\n",
       "      <td>2</td>\n",
       "      <td>1</td>\n",
       "      <td>20.842000</td>\n",
       "      <td>0.128829</td>\n",
       "      <td>0.016597</td>\n",
       "      <td>3</td>\n",
       "    </tr>\n",
       "    <tr>\n",
       "      <th>2</th>\n",
       "      <td>3</td>\n",
       "      <td>3</td>\n",
       "      <td>21.542000</td>\n",
       "      <td>0.484802</td>\n",
       "      <td>0.235033</td>\n",
       "      <td>3</td>\n",
       "    </tr>\n",
       "    <tr>\n",
       "      <th>3</th>\n",
       "      <td>4</td>\n",
       "      <td>22</td>\n",
       "      <td>20.725333</td>\n",
       "      <td>0.353591</td>\n",
       "      <td>0.125026</td>\n",
       "      <td>3</td>\n",
       "    </tr>\n",
       "    <tr>\n",
       "      <th>4</th>\n",
       "      <td>5</td>\n",
       "      <td>4</td>\n",
       "      <td>20.729667</td>\n",
       "      <td>0.057830</td>\n",
       "      <td>0.003344</td>\n",
       "      <td>3</td>\n",
       "    </tr>\n",
       "    <tr>\n",
       "      <th>...</th>\n",
       "      <td>...</td>\n",
       "      <td>...</td>\n",
       "      <td>...</td>\n",
       "      <td>...</td>\n",
       "      <td>...</td>\n",
       "      <td>...</td>\n",
       "    </tr>\n",
       "    <tr>\n",
       "      <th>205</th>\n",
       "      <td>15</td>\n",
       "      <td>10</td>\n",
       "      <td>23.616500</td>\n",
       "      <td>0.208597</td>\n",
       "      <td>0.043512</td>\n",
       "      <td>2</td>\n",
       "    </tr>\n",
       "    <tr>\n",
       "      <th>206</th>\n",
       "      <td>16</td>\n",
       "      <td>8</td>\n",
       "      <td>24.156500</td>\n",
       "      <td>0.408001</td>\n",
       "      <td>0.166464</td>\n",
       "      <td>2</td>\n",
       "    </tr>\n",
       "    <tr>\n",
       "      <th>207</th>\n",
       "      <td>17</td>\n",
       "      <td>5</td>\n",
       "      <td>25.374333</td>\n",
       "      <td>3.018380</td>\n",
       "      <td>9.110616</td>\n",
       "      <td>3</td>\n",
       "    </tr>\n",
       "    <tr>\n",
       "      <th>208</th>\n",
       "      <td>18</td>\n",
       "      <td>16</td>\n",
       "      <td>25.579667</td>\n",
       "      <td>2.813901</td>\n",
       "      <td>7.918036</td>\n",
       "      <td>3</td>\n",
       "    </tr>\n",
       "    <tr>\n",
       "      <th>209</th>\n",
       "      <td>19</td>\n",
       "      <td>15</td>\n",
       "      <td>23.678333</td>\n",
       "      <td>0.591397</td>\n",
       "      <td>0.349750</td>\n",
       "      <td>3</td>\n",
       "    </tr>\n",
       "  </tbody>\n",
       "</table>\n",
       "<p>210 rows × 6 columns</p>\n",
       "</div>"
      ],
      "text/plain": [
       "    grid positionOrder   duration                     stop\n",
       "                             mean       std       var size\n",
       "0      1             2  21.224333  0.765602  0.586146    3\n",
       "1      2             1  20.842000  0.128829  0.016597    3\n",
       "2      3             3  21.542000  0.484802  0.235033    3\n",
       "3      4            22  20.725333  0.353591  0.125026    3\n",
       "4      5             4  20.729667  0.057830  0.003344    3\n",
       "..   ...           ...        ...       ...       ...  ...\n",
       "205   15            10  23.616500  0.208597  0.043512    2\n",
       "206   16             8  24.156500  0.408001  0.166464    2\n",
       "207   17             5  25.374333  3.018380  9.110616    3\n",
       "208   18            16  25.579667  2.813901  7.918036    3\n",
       "209   19            15  23.678333  0.591397  0.349750    3\n",
       "\n",
       "[210 rows x 6 columns]"
      ]
     },
     "execution_count": 3,
     "metadata": {},
     "output_type": "execute_result"
    }
   ],
   "source": [
    "# pegando somente dados numéricos\n",
    "numerical_data = infos_interlagos.groupby(['raceId', 'grid', 'positionOrder']).agg({'duration': [np.mean, np.std, np.var], 'stop': [np.size]}).reset_index()\n",
    "numerical_data = numerical_data.drop('raceId', axis=1)\n",
    "numerical_data"
   ]
  },
  {
   "cell_type": "code",
   "execution_count": 4,
   "id": "aab05a36",
   "metadata": {},
   "outputs": [
    {
     "data": {
      "text/plain": [
       "grid                    0\n",
       "positionOrder           0\n",
       "duration       mean     0\n",
       "               std     22\n",
       "               var     22\n",
       "stop           size     0\n",
       "dtype: int64"
      ]
     },
     "execution_count": 4,
     "metadata": {},
     "output_type": "execute_result"
    }
   ],
   "source": [
    "# verificando existência de valores nulos\n",
    "numerical_data.isnull().sum()"
   ]
  },
  {
   "cell_type": "code",
   "execution_count": 5,
   "id": "15e89973",
   "metadata": {},
   "outputs": [
    {
     "data": {
      "text/plain": [
       "grid                   0\n",
       "positionOrder          0\n",
       "duration       mean    0\n",
       "               std     0\n",
       "               var     0\n",
       "stop           size    0\n",
       "dtype: int64"
      ]
     },
     "execution_count": 5,
     "metadata": {},
     "output_type": "execute_result"
    }
   ],
   "source": [
    "# preenchendo os valores nulos\n",
    "numerical_data = numerical_data.fillna(-1)\n",
    "numerical_data.isnull().sum()"
   ]
  },
  {
   "cell_type": "code",
   "execution_count": 6,
   "id": "9ab443b7",
   "metadata": {},
   "outputs": [
    {
     "data": {
      "text/html": [
       "<div>\n",
       "<style scoped>\n",
       "    .dataframe tbody tr th:only-of-type {\n",
       "        vertical-align: middle;\n",
       "    }\n",
       "\n",
       "    .dataframe tbody tr th {\n",
       "        vertical-align: top;\n",
       "    }\n",
       "\n",
       "    .dataframe thead tr th {\n",
       "        text-align: left;\n",
       "    }\n",
       "</style>\n",
       "<table border=\"1\" class=\"dataframe\">\n",
       "  <thead>\n",
       "    <tr>\n",
       "      <th></th>\n",
       "      <th>grid</th>\n",
       "      <th>positionOrder</th>\n",
       "      <th colspan=\"3\" halign=\"left\">duration</th>\n",
       "      <th>stop</th>\n",
       "    </tr>\n",
       "    <tr>\n",
       "      <th></th>\n",
       "      <th></th>\n",
       "      <th></th>\n",
       "      <th>mean</th>\n",
       "      <th>std</th>\n",
       "      <th>var</th>\n",
       "      <th>size</th>\n",
       "    </tr>\n",
       "  </thead>\n",
       "  <tbody>\n",
       "    <tr>\n",
       "      <th>count</th>\n",
       "      <td>210.000000</td>\n",
       "      <td>210.000000</td>\n",
       "      <td>210.000000</td>\n",
       "      <td>210.000000</td>\n",
       "      <td>210.000000</td>\n",
       "      <td>210.000000</td>\n",
       "    </tr>\n",
       "    <tr>\n",
       "      <th>mean</th>\n",
       "      <td>10.842857</td>\n",
       "      <td>10.547619</td>\n",
       "      <td>23.267374</td>\n",
       "      <td>1.390102</td>\n",
       "      <td>5.396381</td>\n",
       "      <td>2.680952</td>\n",
       "    </tr>\n",
       "    <tr>\n",
       "      <th>std</th>\n",
       "      <td>6.259085</td>\n",
       "      <td>5.831782</td>\n",
       "      <td>2.108712</td>\n",
       "      <td>1.921223</td>\n",
       "      <td>12.066459</td>\n",
       "      <td>0.991890</td>\n",
       "    </tr>\n",
       "    <tr>\n",
       "      <th>min</th>\n",
       "      <td>0.000000</td>\n",
       "      <td>1.000000</td>\n",
       "      <td>19.241667</td>\n",
       "      <td>-1.000000</td>\n",
       "      <td>-1.000000</td>\n",
       "      <td>1.000000</td>\n",
       "    </tr>\n",
       "    <tr>\n",
       "      <th>25%</th>\n",
       "      <td>5.000000</td>\n",
       "      <td>6.000000</td>\n",
       "      <td>21.945583</td>\n",
       "      <td>0.199484</td>\n",
       "      <td>0.039794</td>\n",
       "      <td>2.000000</td>\n",
       "    </tr>\n",
       "    <tr>\n",
       "      <th>50%</th>\n",
       "      <td>11.000000</td>\n",
       "      <td>10.500000</td>\n",
       "      <td>23.291750</td>\n",
       "      <td>0.586195</td>\n",
       "      <td>0.343651</td>\n",
       "      <td>3.000000</td>\n",
       "    </tr>\n",
       "    <tr>\n",
       "      <th>75%</th>\n",
       "      <td>16.000000</td>\n",
       "      <td>15.000000</td>\n",
       "      <td>24.207583</td>\n",
       "      <td>2.612292</td>\n",
       "      <td>6.824135</td>\n",
       "      <td>3.000000</td>\n",
       "    </tr>\n",
       "    <tr>\n",
       "      <th>max</th>\n",
       "      <td>24.000000</td>\n",
       "      <td>24.000000</td>\n",
       "      <td>30.125500</td>\n",
       "      <td>9.387766</td>\n",
       "      <td>88.130147</td>\n",
       "      <td>5.000000</td>\n",
       "    </tr>\n",
       "  </tbody>\n",
       "</table>\n",
       "</div>"
      ],
      "text/plain": [
       "             grid positionOrder    duration                          \\\n",
       "                                       mean         std         var   \n",
       "count  210.000000    210.000000  210.000000  210.000000  210.000000   \n",
       "mean    10.842857     10.547619   23.267374    1.390102    5.396381   \n",
       "std      6.259085      5.831782    2.108712    1.921223   12.066459   \n",
       "min      0.000000      1.000000   19.241667   -1.000000   -1.000000   \n",
       "25%      5.000000      6.000000   21.945583    0.199484    0.039794   \n",
       "50%     11.000000     10.500000   23.291750    0.586195    0.343651   \n",
       "75%     16.000000     15.000000   24.207583    2.612292    6.824135   \n",
       "max     24.000000     24.000000   30.125500    9.387766   88.130147   \n",
       "\n",
       "             stop  \n",
       "             size  \n",
       "count  210.000000  \n",
       "mean     2.680952  \n",
       "std      0.991890  \n",
       "min      1.000000  \n",
       "25%      2.000000  \n",
       "50%      3.000000  \n",
       "75%      3.000000  \n",
       "max      5.000000  "
      ]
     },
     "execution_count": 6,
     "metadata": {},
     "output_type": "execute_result"
    }
   ],
   "source": [
    "numerical_data.describe()"
   ]
  },
  {
   "cell_type": "code",
   "execution_count": 7,
   "id": "3120d8e8",
   "metadata": {},
   "outputs": [
    {
     "data": {
      "image/png": "[encoded data removed]",
      "text/plain": [
       "<Figure size 800x600 with 1 Axes>"
      ]
     },
     "metadata": {},
     "output_type": "display_data"
    }
   ],
   "source": [
    "plt.figure(figsize=(8, 6))\n",
    "plt.hist(numerical_data[('duration', 'mean')], bins=10)\n",
    "plt.xlabel('duração média (seconds)')\n",
    "plt.ylabel('Frequência')\n",
    "plt.title('Distribuição de duração média de Pit Stops')\n",
    "plt.show()"
   ]
  },
  {
   "cell_type": "code",
   "execution_count": 8,
   "id": "26ca8b3b",
   "metadata": {},
   "outputs": [
    {
     "data": {
      "image/png": "[encoded data removed]",
      "text/plain": [
       "<Figure size 640x480 with 1 Axes>"
      ]
     },
     "metadata": {},
     "output_type": "display_data"
    }
   ],
   "source": [
    "stops_count = numerical_data['stop'].value_counts()\n",
    "\n",
    "colors = ['red' if i < 2 else 'blue' for i in range(len(stops_count))]\n",
    "\n",
    "stops_count.plot(kind='bar', color=colors, edgecolor='black')\n",
    "\n",
    "plt.xlabel('Quantidade de Pit Stops')\n",
    "plt.ylabel('Frequência')\n",
    "plt.title('Frequência de Quantidade de Pit Stops')\n",
    "plt.show()"
   ]
  },
  {
   "cell_type": "markdown",
   "id": "963e8e92",
   "metadata": {},
   "source": [
    "<p>Os Histogramas acima são representações das colunas 'duration' e 'stop', que significam o <strong>tempo médio de pitstop dos pilotos por corrida e a quantidade de pit_stops feita</strong>, respectivamente.</p>\n",
    "\n",
    "<ul>\n",
    "    <li>\n",
    "        <p><strong>Sobre a 'duration':</strong> Percebe-se que o valor médio que mais se repete está entre 22 e 24 segundos.</p>       </li>\n",
    "    <li>\n",
    "        <p><strong>Sobre o 'stop:</strong> 2 e 3 são quantidades de pit stops mais comuns de acontecerem.</p>\n",
    "    </li>\n",
    "</ul>"
   ]
  },
  {
   "cell_type": "code",
   "execution_count": 9,
   "id": "17a0cab4",
   "metadata": {
    "scrolled": false
   },
   "outputs": [
    {
     "data": {
      "text/plain": [
       "<AxesSubplot:title={'center':'HeatMap'}, xlabel='None-None', ylabel='None-None'>"
      ]
     },
     "execution_count": 9,
     "metadata": {},
     "output_type": "execute_result"
    },
    {
     "data": {
      "image/png": "[encoded data removed]",
      "text/plain": [
       "<Figure size 1000x800 with 2 Axes>"
      ]
     },
     "metadata": {},
     "output_type": "display_data"
    }
   ],
   "source": [
    "corr = numerical_data.corr()\n",
    "corr\n",
    "\n",
    "plt.figure(figsize=(10, 8))\n",
    "plt.title('HeatMap')\n",
    "sns.heatmap(data=corr, cmap='RdBu', fmt='.2f', square=True, linecolor='white', annot=True)"
   ]
  },
  {
   "cell_type": "markdown",
   "id": "cd661786",
   "metadata": {},
   "source": [
    "<h2>Através do mapa de calor, percebemos que o grid (posição de saída do piloto) é a variável que possui a maior relação com o positionOrder (posição final)</h2>"
   ]
  },
  {
   "cell_type": "code",
   "execution_count": 12,
   "id": "22621d0b",
   "metadata": {},
   "outputs": [
    {
     "data": {
      "image/png": "[encoded data removed]",
      "text/plain": [
       "<Figure size 800x600 with 1 Axes>"
      ]
     },
     "metadata": {},
     "output_type": "display_data"
    }
   ],
   "source": [
    "plt.figure(figsize=(8, 6))\n",
    "plt.scatter(numerical_data['grid'], numerical_data['positionOrder'])\n",
    "plt.xlabel('Grid')\n",
    "plt.ylabel('Final position')\n",
    "plt.title('Relação entre Pos. de largada e Pos. final')\n",
    "plt.show()"
   ]
  },
  {
   "cell_type": "markdown",
   "id": "ed465a6c",
   "metadata": {},
   "source": [
    "<h3>Correlação positiva moderada/forte, com alguns outliers</h3>\n",
    "<p>Com o gráfico, podemos notar que pode haver alguma relação entre as variáveis, porém de forma moderada/forte e com muitos outliers.</p>\n",
    "<p>Portanto, estamos seguindo o raciocínio de que quanto menor a posição de largada do piloto, menos a posição final.</p>"
   ]
  },
  {
   "cell_type": "markdown",
   "id": "a6716930",
   "metadata": {},
   "source": [
    "<h1> Escolha do modelo de aprendizagem de máquina </h1>\n",
    "\n",
    "<h2>Aprendizagem supervisionada</h2>\n",
    "<p>\n",
    "    Para o contexto do nosso projeto, em que o objetivo é prever o próximo campeão da Fórmula 1 com base em dados numéricos, a abordagem de <strong>aprendizagem supervisionada</strong> é mais adequada. A aprendizagem supervisionada envolve o treinamento de um modelo usando exemplos rotulados, em que as variáveis independentes (características) estão relacionadas com um rótulo conhecido (a posição final do piloto).\n",
    "</p>\n",
    "<p>\n",
    "    A aprendizagem supervisionada é apropriada quando possuimos dados rotulados para treinar o modelo e um objetivo claro de prever um valor específico ou classe. Nesse caso, temos os dados históricos da Fórmula 1, incluindo as características dos pilotos e suas posições finais, permitindo o treinamento de um modelo para fazer previsões futuras com base nesses dados passados.\n",
    "</p>\n",
    "\n",
    "<br/>\n",
    "\n",
    "<h2>Regresão Linear</h2>\n",
    "\n",
    "<p>\n",
    "    A <strong>Regressão Linear</strong> assume uma relação linear entre as variáveis independentes e dependentes.\n",
    "</p>\n",
    "\n",
    "<p>Escolhemos este modelo pois verificamos a existência de correlação alta entre variáveis do conjunto de dados (grid e positionOrder).</p>"
   ]
  },
  {
   "cell_type": "code",
   "execution_count": 42,
   "id": "6ea4e9be",
   "metadata": {},
   "outputs": [],
   "source": [
    "# Criando dataframe X com colunas com mais correlação com a posição final\n",
    "X = pd.DataFrame({\n",
    "    'duration': numerical_data[('duration', 'mean')],\n",
    "    'grid': numerical_data['grid']\n",
    "})\n",
    "\n",
    "# posição final - variável alvo (dependente)\n",
    "y = numerical_data['positionOrder']\n",
    "\n",
    "#  Dividindo os dados em conjunto de treinamento e conjunto de teste\n",
    "X_train, X_test, y_train, y_test = train_test_split(X, y, test_size=0.2, random_state=42)"
   ]
  },
  {
   "cell_type": "code",
   "execution_count": 44,
   "id": "d682b07d",
   "metadata": {
    "scrolled": true
   },
   "outputs": [
    {
     "data": {
      "text/plain": [
       "LinearRegression()"
      ]
     },
     "execution_count": 44,
     "metadata": {},
     "output_type": "execute_result"
    }
   ],
   "source": [
    "# instância do modelo de LR\n",
    "linearModel = LinearRegression()\n",
    "\n",
    "# treinamento do modelo\n",
    "linearModel.fit(X_train, y_train)"
   ]
  },
  {
   "cell_type": "markdown",
   "id": "3761a059",
   "metadata": {},
   "source": [
    "<p>RMSE (Root Mean Squared Error):\n",
    "O RMSE é uma métrica que mede a diferença média entre os valores reais e os valores previstos pelo modelo. Ele calcula a raiz quadrada da média dos erros ao quadrado. Quanto menor o valor do RMSE, melhor o desempenho do modelo, indicando que as previsões estão mais próximas dos valores reais. O RMSE é expresso na mesma unidade da variável dependente.</p>\n",
    "\n",
    "<p>\n",
    "R2 (R-squared):\n",
    "O R2 é uma métrica que indica a proporção da variabilidade da variável dependente (posição final) que é explicada pelo modelo. Ele varia de 0 a 1, sendo que um valor mais próximo de 1 indica um bom ajuste do modelo aos dados. O valor 1 significa que o modelo explica toda a variabilidade dos dados, enquanto o valor 0 indica que o modelo não explica nada da variabilidade. No entanto, é importante ressaltar que o R2 não indica se o modelo é adequado em termos de causalidade ou precisão das previsões.\n",
    "</p>"
   ]
  },
  {
   "cell_type": "code",
   "execution_count": 51,
   "id": "e6010d19",
   "metadata": {},
   "outputs": [
    {
     "name": "stdout",
     "output_type": "stream",
     "text": [
      "RMSE: 5.7464107863132865\n",
      "R2: 0.16028338807805098\n"
     ]
    }
   ],
   "source": [
    "# Fazendo previsões usando o conjunto de teste\n",
    "y_pred = linearModel.predict(X_test)\n",
    "\n",
    "# métricas de avaliação\n",
    "rmse = mean_squared_error(y_test, y_pred, squared=False)\n",
    "r2 = r2_score(y_test, y_pred)\n",
    "\n",
    "print(\"RMSE:\", rmse)\n",
    "print(\"R2:\", r2)"
   ]
  },
  {
   "cell_type": "markdown",
   "id": "d289bcb5",
   "metadata": {},
   "source": [
    "<p>\n",
    "    RMSE: O valor do RMSE é de 5.746, o que significa que, em média, as previsões do modelo têm um desvio de aproximadamente 5.746 unidades em relação aos valores reais da variável dependente (posição final). Quanto menor o valor do RMSE, melhor o ajuste do modelo aos dados.\n",
    "\n",
    "R2: O valor do R2 é de 0.160, o que indica que o modelo explica aproximadamente 16% da variabilidade da variável dependente (posição final). Isso significa que outras variáveis ou fatores não incluídos no modelo também estão influenciando a posição final dos pilotos.\n",
    "<p>"
   ]
  },
  {
   "cell_type": "code",
   "execution_count": 53,
   "id": "91a4ec1d",
   "metadata": {
    "scrolled": true
   },
   "outputs": [
    {
     "name": "stdout",
     "output_type": "stream",
     "text": [
      "    Feature  Coefficient\n",
      "1      grid     0.600806\n",
      "0  duration     0.058498\n"
     ]
    }
   ],
   "source": [
    "# Obter os coeficientes estimados pela regressão linear\n",
    "coefficients = pd.DataFrame({'Feature': X.columns, 'Coefficient': linearModel.coef_})\n",
    "coefficients.sort_values(by='Coefficient', ascending=False, inplace=True)\n",
    "\n",
    "print(coefficients)"
   ]
  },
  {
   "cell_type": "markdown",
   "id": "fcbe451c",
   "metadata": {},
   "source": [
    "<p>\n",
    "    grid = 0.600806.\n",
    "    Isto significa que um aumento de uma unidade na posição de largada está associado a um aumento de aproximadamente 0.6 unidades na posição final dos politos.\n",
    "</p>\n",
    "\n",
    "<p>\n",
    "    duration = 0.058498.\n",
    "    Isto significa que um aumento de uma unidade na duração média do pit_stop está associado a um aumento de aproximadamente 0.0585 unidades na posição final dos pilotos.\n",
    "</p>"
   ]
  },
  {
   "cell_type": "code",
   "execution_count": 62,
   "id": "8cf7ff10",
   "metadata": {},
   "outputs": [],
   "source": [
    "# AJUSTES NO MODELO"
   ]
  }
 ],
 "metadata": {
  "kernelspec": {
   "display_name": "Python 3 (ipykernel)",
   "language": "python",
   "name": "python3"
  },
  "language_info": {
   "codemirror_mode": {
    "name": "ipython",
    "version": 3
   },
   "file_extension": ".py",
   "mimetype": "text/x-python",
   "name": "python",
   "nbconvert_exporter": "python",
   "pygments_lexer": "ipython3",
   "version": "3.9.13"
  }
 },
 "nbformat": 4,
 "nbformat_minor": 5
}
